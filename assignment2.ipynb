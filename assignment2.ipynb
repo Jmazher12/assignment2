{
 "cells": [
  {
   "cell_type": "markdown",
   "metadata": {
    "id": "13ad028b-72b7-43ed-aa78-96fd4e518040"
   },
   "source": [
    "# Assignment: Data Wrangling and Exploratory Data Analysis\n",
    "## Do Q1 and Q2, and one other question.\n",
    "`! git clone https://www.github.com/DS3001/assignment2`"
   ]
  },
  {
   "cell_type": "code",
   "execution_count": 1,
   "metadata": {
    "colab": {
     "base_uri": "https://localhost:8080/"
    },
    "id": "cow6bIAmMqUa",
    "outputId": "791e9c70-7d18-4561-98ba-f47953759ac0"
   },
   "outputs": [
    {
     "name": "stdout",
     "output_type": "stream",
     "text": [
      "Cloning into 'assignment2'...\n",
      "remote: Enumerating objects: 45, done.\u001b[K\n",
      "remote: Counting objects: 100% (15/15), done.\u001b[K\n",
      "remote: Compressing objects: 100% (9/9), done.\u001b[K\n",
      "remote: Total 45 (delta 11), reused 6 (delta 6), pack-reused 30\u001b[K\n",
      "Unpacking objects: 100% (45/45), done.\n"
     ]
    }
   ],
   "source": [
    "! git clone https://www.github.com/Jmazher12/assignment2"
   ]
  },
  {
   "cell_type": "markdown",
   "metadata": {
    "id": "5735a4d4-8be8-433a-a351-70eb8002e632"
   },
   "source": [
    "**Q1.** Open the \"tidy_data.pdf\" document in the repo, which is a paper called Tidy Data by Hadley Wickham.\n",
    "\n",
    " 1. Read the abstract. What is this paper about? **This paper discusses the ways a data scientist can efficiently clean or \"tidy\" data, which can lead to more accurate - and fun - data analysis**\n",
    " 2. Read the introduction. What is the \"tidy data standard\" intended to accomplish? **The \"tidy data standard\" is intended to provide data scientists a framework through which they can clean data. With this algorithmic approach to cleaning data, people wouldn't have to worry about figuring out where to start when it comes to cleaning data, they simply follow the tidy data standard**\n",
    " 3. Read the intro to section 2. What does this sentence mean: \"Like families, tidy datasets are all alike but every messy dataset is messy in its own way.\" **This means that messy datasets often have a unique problem that makes them messy, which therefore complicates the cleaning process for someone who has never encountered that specific problem before** What does this sentence mean: \"For a given dataset, it’s usually easy to figure out what are observations and what are variables, but it is surprisingly difficult to precisely define variables and observations in general.\" **Oftentimes, having to isolate a given variable/observation in a way in which a computer can understand is difficult and frustrating, especially when as a human our brains automatically can detect a problem fairly quickly.**\n",
    " 4. Read Section 2.2. How does Wickham define values, variables, and observations? **Values are defined as a collection of quantitative numbers or qualitative strings. Variables are defined as values that measure the same underlying attribute across units, such as height, temp., etc. An observation however measures all values on the same unit across attributes.**\n",
    " 5. How is \"Tidy Data\" defined in section 2.3? **A \"tidy\" data set's variables will each form a column, each observation will form a row, and the type of observational unit will form a table**\n",
    " 6. Read the intro to Section 3 and Section 3.1. What are the 5 most common problems with messy datasets? **The five most common problems with messy datasets are: 1. Column headers are values and not variable names 2. Multiple variables are stoerd in one column 3. Variables are stored in both rows and columns 4. Multiple types of observational units are stored in the same table 5. A single observational unit is stored in multiple tables.** Why are the data in Table 4 messy? **The data are messy because there are variables that can be condensed into one column, rather than spread out throughout the table.** What is \"melting\" a dataset? **\"Melting\" a dataset is whenever we stack variables and observations that are redudantly placed across a table. This allows for a more condensed and easy-to-read table.**\n",
    " 7. Why, specifically, is table 11 messy but table 12 tidy and \"molten\"? **Table 11 is messy because there is a column for each possible day in the month, which can be combined with the year and month column in order to create one condensed column. Meanwhile table 12 does this and creates a singular variable called \"date\". Additionally table 12 has two columns that distinct that maximum and minimum temperature on a given date, making the information more tidy and easy to understand**\n",
    " 8. Read Section 6. What is the \"chicken-and-egg\" problem with focusing on tidy data? **The \"chicken-and-egg\" problem is that if tidy data is only as useful as the tools that work with it, then tidy tools will be inextricably linked to tidy data. This means that we might find ourself spending time on organizing the tidy data tools themselves rather than the explicit data on-hand...** What does Wickham hope happens in the future with further work on the subject of data wrangling? **Wickham hopes that others will build upon this tidy data framework and design new tools/methodologies in which one can effectively organize data**"
   ]
  },
  {
   "cell_type": "markdown",
   "metadata": {
    "id": "da879ea7-8aac-48a3-b6c2-daea56d2e072"
   },
   "source": [
    "**Q2.** This question provides some practice cleaning variables which have common problems.\n",
    "1. Numeric variable: For `./data/airbnb_hw.csv`, clean the `Price` variable as well as you can, and explain the choices you make. How many missing values do you end up with? (Hint: What happens to the formatting when a price goes over 999 dollars, say from 675 to 1,112?)\n",
    "2. Categorical variable: For the `./data/sharks.csv` data covered in the lecture, clean the \"Type\" variable as well as you can, and explain the choices you make.\n",
    "3. Dummy variable: For the pretrial data covered in the lecture, clean the `WhetherDefendantWasReleasedPretrial` variable as well as you can, and, in particular, replace missing values with `np.nan`.\n",
    "4. Missing values, not at random: For the pretrial data covered in the lecture, clean the `ImposedSentenceAllChargeInContactEvent` variable as well as you can, and explain the choices you make. (Hint: Look at the `SentenceTypeAllChargesAtConvictionInContactEvent` variable.)"
   ]
  },
  {
   "cell_type": "code",
   "execution_count": 7,
   "metadata": {},
   "outputs": [
    {
     "name": "stdout",
     "output_type": "stream",
     "text": [
      "(30478,)\n",
      "object\n",
      "AxesSubplot(0.125,0.125;0.775x0.755)\n",
      "float64\n",
      "Total Missings: \n",
      " 181 \n",
      "\n"
     ]
    },
    {
     "data": {
      "image/png": "[encoded data removed]",
      "text/plain": [
       "<Figure size 432x288 with 1 Axes>"
      ]
     },
     "metadata": {
      "needs_background": "light"
     },
     "output_type": "display_data"
    }
   ],
   "source": [
    "import numpy as np\n",
    "import pandas as pd\n",
    "\n",
    "\n",
    "#Q2 part 1:\n",
    "bnb_data = pd.read_csv('./data/airbnb_hw.csv',low_memory=False)\n",
    "print(bnb_data[\"Price\"].shape)\n",
    "print(bnb_data[\"Price\"].dtypes)\n",
    "# print(bnb_data[\"Price\"].describe())\n",
    "# print(bnb_data[\"Price\"].hist())\n",
    "\n",
    "# First, the commas are messing it up, so I'll need to get rid of them\n",
    "# Second, \"Price\" is listed as an object, it should be a numeric type\n",
    "\n",
    "bnb_data[\"Price\"].str.replace(\",\",\"\")\n",
    "bnb_data[\"Price\"] = pd.to_numeric(bnb_data[\"Price\"], errors='coerce')\n",
    "\n",
    "print(bnb_data[\"Price\"].hist())\n",
    "# This histogram looks significantly cleaner than the original one\n",
    "\n",
    "print(bnb_data[\"Price\"].dtypes)\n",
    "# The \"Price\" variable has been correctly chagned to a float type\n",
    "\n",
    "bnb_data[\"Price\"+\"_nan\"] = bnb_data[\"Price\"].isnull()\n",
    "print(\"Total Missings: \\n\", sum(bnb_data[\"Price\"+\"_nan\"]),\"\\n\")\n"
   ]
  },
  {
   "cell_type": "code",
   "execution_count": 26,
   "metadata": {},
   "outputs": [
    {
     "name": "stdout",
     "output_type": "stream",
     "text": [
      "['Unprovoked' 'Provoked' 'Questionable' 'Watercraft' 'Unconfirmed'\n",
      " 'Unverified' 'Invalid' 'Under investigation' 'Boating' 'Sea Disaster' nan\n",
      " 'Boat' 'Boatomg'] \n",
      "\n",
      "Unprovoked             4716\n",
      "Provoked                593\n",
      "Invalid                 552\n",
      "Sea Disaster            239\n",
      "Watercraft              142\n",
      "Boat                    109\n",
      "Boating                  92\n",
      "Questionable             10\n",
      "Boatomg                   1\n",
      "Unverified                1\n",
      "Under investigation       1\n",
      "Unconfirmed               1\n",
      "Name: Type, dtype: int64 \n",
      "\n",
      "Unprovoked      4716\n",
      "Provoked         593\n",
      "Invalid          552\n",
      "Sea Disaster     239\n",
      "Watercraft       142\n",
      "Boat             110\n",
      "Boating           92\n",
      "Name: Type, dtype: int64 \n",
      "\n",
      "Unprovoked      4716\n",
      "Provoked         593\n",
      "Sea Disaster     239\n",
      "Watercraft       142\n",
      "Boat             110\n",
      "Boating           92\n",
      "Name: Type, dtype: int64 \n",
      "\n",
      "Unprovoked    4716\n",
      "Provoked      1176\n",
      "Name: Type, dtype: int64 \n",
      "\n",
      "AxesSubplot(0.125,0.125;0.775x0.755)\n"
     ]
    },
    {
     "data": {
      "image/png": "[encoded data removed]",
      "text/plain": [
       "<Figure size 432x288 with 1 Axes>"
      ]
     },
     "metadata": {
      "needs_background": "light"
     },
     "output_type": "display_data"
    }
   ],
   "source": [
    "#Q2 part 2:\n",
    "df = pd.read_csv('./data/sharks.csv', low_memory=False)\n",
    "var = \"Type\"\n",
    "print(df[var].unique(), '\\n')\n",
    "print(df[var].value_counts(), '\\n')\n",
    "\n",
    "# I noticed that the categories that appear 1 or 10 times means they probably aren't\n",
    "# that important in the grand scheme of things, so I can just turn those into nans\n",
    "\n",
    "df[var] = df[var].replace(\"Questionable\", np.nan).replace(\"Unverified\", np.nan).replace(\"Under investigation\",np.nan).replace(\"Unconfirmed\",np.nan)\n",
    "df[var] = df[var].replace(\"Boatomg\", \"Boat\")\n",
    "print(df[var].value_counts(), '\\n')\n",
    "\n",
    "# When looking at the \"invalid\" category, I noticed that the injury was reported as being caused\n",
    "# by a shark, but it was actually caused by something else like a stingray. This means that it isn't really relevant to\n",
    "# whether or not a human provoked a shark or vice versa, so I can turn \"invalid\" into nan\n",
    "\n",
    "df[var] = df[var].replace(\"Invalid\", np.nan)\n",
    "print(df[var].value_counts(), '\\n')\n",
    "\n",
    "# When looking at the \"Sea Disaster\" category, I noticed that it was reffering to incidents where a boat capsized or aggravated the sharks,\n",
    "# thus I can combine this category with \"Watercraft\", \"Boat\", and \"Boating\" since these categories are all referring to shark attacks related to boats.\n",
    "# Additionally, since boats are technically made by humans, we can say that these shark attacks were provoked because the boats were causing a disturbance\n",
    "# to the sharks leading to attacks, meaning that I can classify the aforementioned categories as \"Provoked\"\n",
    "\n",
    "df[var] = df[var].replace(\"Sea Disaster\",\"Provoked\").replace(\"Watercraft\",\"Provoked\").replace(\"Boat\",\"Provoked\").replace(\"Boating\",\"Provoked\")\n",
    "print(df[var].value_counts(), '\\n')\n",
    "\n",
    "# Now, the \"Type\" column only has two categories within it, provoked and unprovoked, which makes it much simpler to understand\n",
    "# whether or not the sharks were provoked or unprovoked to attack the people\n",
    "\n",
    "print(df[var].hist())\n"
   ]
  },
  {
   "cell_type": "code",
   "execution_count": 33,
   "metadata": {},
   "outputs": [
    {
     "name": "stdout",
     "output_type": "stream",
     "text": [
      "[9 0 1]\n",
      "1    19154\n",
      "0     3801\n",
      "9       31\n",
      "Name: WhetherDefendantWasReleasedPretrial, dtype: int64\n",
      "1.0    19154\n",
      "0.0     3801\n",
      "Name: WhetherDefendantWasReleasedPretrial, dtype: int64 \n",
      "\n",
      "AxesSubplot(0.125,0.125;0.775x0.755)\n"
     ]
    },
    {
     "data": {
      "image/png": "[encoded data removed]",
      "text/plain": [
       "<Figure size 432x288 with 1 Axes>"
      ]
     },
     "metadata": {
      "needs_background": "light"
     },
     "output_type": "display_data"
    }
   ],
   "source": [
    "#Q2 part 3\n",
    "url = 'http://www.vcsc.virginia.gov/pretrialdataproject/October%202017%20Cohort_Virginia%20Pretrial%20Data%20Project_Deidentified%20FINAL%20Update_10272021.csv'\n",
    "df = pd.read_csv(url, low_memory=False)\n",
    "var = \"WhetherDefendantWasReleasedPretrial\"\n",
    "print(df[var].unique())\n",
    "print(df[var].value_counts())\n",
    "\n",
    "# When looking at the codebook for the pretrial data, it says that the '9' means that it is unclear whether or not\n",
    "# an individual was released or unreleased. Since there are only 31 of these cases, we can turn the '9' category into nans\n",
    "\n",
    "df[var] = df[var].replace(9, np.nan)\n",
    "print(df[var].value_counts(), '\\n')\n",
    "print(df[var].hist())\n",
    "\n",
    "# Now we can see that more individuals have been released than unreleased\n"
   ]
  },
  {
   "cell_type": "code",
   "execution_count": 34,
   "metadata": {},
   "outputs": [
    {
     "name": "stdout",
     "output_type": "stream",
     "text": [
      "[' ' '60' '12' '.985626283367556' '36' '6' '24' '5.91375770020534' '120'\n",
      " '72' '11.9917864476386' '0' '2.95687885010267' '84' '108' '300' '240'\n",
      " '180' '4' '96' '2' '54' '.328542094455852' '44' '5' '115' '132' '48'\n",
      " '258' '34' '76' '.164271047227926' '.131416837782341' '111' '9' '3'\n",
      " '1.97125256673511' '36.9856262833676' '.0657084188911704'\n",
      " '35.4928131416838' '106.492813141684' '8' '35' '18.3141683778234' '480'\n",
      " '32' '93' '234' '732' '1.16427104722793' '4.6570841889117' '21' '7'\n",
      " '4.49281314168378' '18' '600' '43.1642710472279' '179' '52' '30' '20'\n",
      " '192' '702' '14' '55' '53' '11.9055441478439' '114' '35.0061601642711'\n",
      " '68' '.657084188911704' '46.6242299794661' '102' '65' '200' '57'\n",
      " '24.3285420944559' '12.1642710472279' '117' '81.4928131416838'\n",
      " '22.4928131416838' '1980' '3.6570841889117' '56' '10' '2.79260780287474'\n",
      " '1' '47' '22' '1500' '40' '284' '11' '118' '42' '162' '156'\n",
      " '47.2956878850103' '105' '51' '246' '29' '75' '324' '360'\n",
      " '34.4804928131417' '120.328542094456' '59.9260780287474' '66'\n",
      " '59.9917864476386' '660' '51.1642710472279' '14.9568788501027'\n",
      " '3.98562628336756' '78' '228' '1.47843942505133' '62' '4.8' '86' '168'\n",
      " '23' '33' '48.0328542094456' '720' '348' '1200' '27' '49' '87' '420' '63'\n",
      " '79.9260780287474' '57.0349075975359' '49.9712525667351'\n",
      " '59.4928131416838' '17' '238.492813141684' '60.9856262833676' '126' '45'\n",
      " '158' '216' '227' '42.9568788501027' '445' '70.952772073922' '516'\n",
      " '177.82135523614' '1752' '90' '1080' '141' '4.82956878850103' '230' '31'\n",
      " '2208' '52.5133470225873' '69' '26' '33.4928131416838' '140' '131' '344'\n",
      " '219' '101' '71' '59' '58' '120.197125256674' '67' '35.4004106776181'\n",
      " '3.28542094455852' '40.1642710472279' '91' '1.7741273100616' '155'\n",
      " '34.4928131416838' '81' '92.3285420944559' '3.5482546201232' '207' '74'\n",
      " '518' '28' '8.95687885010267' '237' '404.673511293634' '18.1642710472279'\n",
      " '10.7433264887064' '551' '39' '15' '124' '43' '176' '19.4928131416838'\n",
      " '482' '129' '88' '46' '45.8542094455852' '128.628336755647'\n",
      " '136.492813141684' '108.328542094456' '50' '363.663244353183' '288' '250'\n",
      " '107' '81.0225872689938' '444' '205' '10.6570841889117' '19'\n",
      " '66.9856262833676' '38.4928131416838' '264' '276' '173' '222' '144' '294'\n",
      " '336' '431' '450' '73' '99.3285420944559' '128' '30.8069815195072'\n",
      " '31.5256673511294' '127' '202' '55.3285420944559' '89' '242'\n",
      " '1.31416837782341' '1029' '.788501026694045' '194.858316221766' '399'\n",
      " '39.6570841889117' '56.95687885' '198' '120.985626283368'\n",
      " '47.6570841889117' '148' '6.8993839835729' '65.3285420944559'\n",
      " '5.95277207392197' '.0985626283367557' '3.32854209445585'\n",
      " '3.94250513347023' '12.9856262833676' '6.98562628336756'\n",
      " '13.1498973305955' '15.1642710472279' '17.1971252566735'\n",
      " '17.9137577002053' '104' '212' '24.6570841889117' '72.6570841889117'\n",
      " '2.98562628336756' '144.985626283368' '31.9712525667351' '183'\n",
      " '4.98562628336756' '11.8213552361396' '252' '12.394250513347'\n",
      " '42.4928131416838' '10.1642710472279' '11.1642710472279'\n",
      " '5.49281314168378' '59.6632443531827' '12.3285420944559'\n",
      " '48.9856262833676' '240.985626283368' '2.6570841889117' '540'\n",
      " '2.97125256673511' '6.32854209445585' '23.6632443531828'\n",
      " '133.657084188912' '35.3285420944559' '456' '103' '1.72279260780287'\n",
      " '12.6570841889117' '11.6570841889117' '60.3285420944559'\n",
      " '3.78850102669405' '576' '2.13141683778234' '492' '14.9856262833676'\n",
      " '24.9856262833676' '61.9712525667351' '5.6570841889117' '16'\n",
      " '42.1642710472279' '.492813141683778' '138' '13.3141683778234'\n",
      " '11.8932238193018' '5.32854209445585' '95' '62.6570841889117'\n",
      " '3.08829568788501' '11.8275154004107' '1.64271047227926'\n",
      " '47.9917864476386' '4.27104722792608' '8.32854209445585'\n",
      " '3.31416837782341' '70' '77' '1.09856262833676' '48.1642710472279'\n",
      " '27.4928131416838' '6.93839835728953' '1011' '.68993839835729'\n",
      " '1.1170431211499' '1.49281314168378' '4.16427104722793'\n",
      " '1.19712525667351' '4.07392197125257' '188' '11.3285420944559'\n",
      " '.0328542094455852' '432' '11.952772073922' '36.4928131416838'\n",
      " '23.9835728952772' '9.98562628336756' '98' '36.3285420944559' '112'\n",
      " '.394250513347023' '13' '.262833675564682' '13.7987679671458'\n",
      " '5.8870636550308' '354' '5.91991786447639' '24.1642710472279'\n",
      " '62.95687885' '4.59958932238193' '123' '2.32854209445585'\n",
      " '23.9240246406571' '204' '197' '174' '16.1498973305955' '840' '440'\n",
      " '98.95687885' '17.952772073922' '63.9425051334702' '60.1314168377823'\n",
      " '12.1314168377823' '172.952772073922' '.197125256673511'\n",
      " '138.164271047228' '4.92813141683778' '.919917864476386'\n",
      " '18.9856262833676' '6.6570841889117' '2.85420944558522'\n",
      " '8.91375770020534' '146' '12.4928131416838' '.558521560574949'\n",
      " '.722792607802875' '5.82135523613963' '84.9856262833676'\n",
      " '6.16427104722793' '15.9856262833676' '64.5585215605749'\n",
      " '38.299794661191' '11.958932238193' '3.1211498973306' '126.328542094456'\n",
      " '5.16427104722793' '64' '42.6570841889117' '312' '19.9712525667351'\n",
      " '82.3285420944559' '23.9712525667351' '17.6242299794661'\n",
      " '121.971252566735' '59.6550308008214' '1.32854209445585'\n",
      " '7.97125256673511' '1.91991786447639' '.525667351129363'\n",
      " '9.32854209445585' '42.9856262833676' '41.9137577002053'\n",
      " '72.9856262833676' '12.4784394250513' '5.19096509240246' '473'\n",
      " '16.6570841889117' '109' '86.3285420944559' '41' '1.90554414784394'\n",
      " '94.1642710472279' '302' '4.39425051334702' '10.8213552361396'\n",
      " '18.3285420944559' '154' '83' '110.956878850103' '226' '96.0328542094456'\n",
      " '4.82135523613963' '30.3285420944559' '37.9712525667351'\n",
      " '50.4640657084189' '286' '99' '99.4928131416838' '2.6611909650924'\n",
      " '70.9712525667351' '13.9712525667351' '23.6570841889117'\n",
      " '.459958932238193' '132.492813141684' '283' '49.3141683778234'\n",
      " '27.9856262833676' '38' '7.6570841889117' '83.6550308008214'\n",
      " '10.9199178644764' '162.328542094456' '37' '132.328542094456'\n",
      " '35.952772073922' '165' '10.9856262833676' '20.1642710472279'\n",
      " '2.59137577002053' '175' '180.985626283368' '10.3285420944559'\n",
      " '36.1642710472279' '120.657084188912' '232' '152' '8.98562628336756'\n",
      " '167' '11.0657084188912' '11.2032854209446' '5.19712525667351'\n",
      " '3.16427104722793' '60.1642710472279' '1.18275154004107'\n",
      " '21.1642710472279' '2.19712525667351' '4.19712525667351'\n",
      " '2.62833675564682' '119.952772073922' '119.958932238193'\n",
      " '9.49281314168378' '5.25667351129363' '15.3285420944559'\n",
      " '2.82135523613963' '192.985626283368' '48.6570841889117'\n",
      " '5.95687885010267' '2.29979466119097' '960' '2.36550308008214' '116'\n",
      " '19.5133470225873' '1.6570841889117']\n"
     ]
    }
   ],
   "source": [
    "#Q2 part 4\n",
    "df = pd.read_csv(url, low_memory=False)\n",
    "var = \"ImposedSentenceAllChargeInContactEvent\"\n",
    "print(df[var].unique())"
   ]
  },
  {
   "cell_type": "markdown",
   "metadata": {
    "id": "c11bcd96-2834-41a4-80fe-d354b4277fd9"
   },
   "source": [
    "**Q3.** This question provides some practice doing exploratory data analysis and visualization.\n",
    "\n",
    "The \"relevant\" variables for this question are:\n",
    "  - `level` - Level of institution (4-year, 2-year)\n",
    "  - `aid_value` - The average amount of student aid going to undergraduate recipients\n",
    "  - `control` - Public, Private not-for-profit, Private for-profit\n",
    "  - `grad_100_value` - percentage of first-time, full-time, degree-seeking undergraduates who complete a degree or certificate program within 100 percent of expected time (bachelor's-seeking group at 4-year institutions)\n",
    "\n",
    "1. Load the `./data/college_completion.csv` data with Pandas.\n",
    "2. What are are the dimensions of the data? How many observations are there? What are the variables included? Use `.head()` to examine the first few rows of data.\n",
    "3. Cross tabulate `control` and `level`. Describe the patterns you see.\n",
    "4. For `grad_100_value`, create a histogram, kernel density plot, boxplot, and statistical description.\n",
    "5. For `grad_100_value`, create a grouped kernel density plot by `control` and by `level`. Describe what you see. Use `groupby` and `.describe` to make grouped calculations of statistical descriptions of `grad_100_value` by `level` and `control`. Which institutions appear to have the best graduation rates?\n",
    "6. Create a new variable, `df['levelXcontrol']=df['level']+', '+df['control']` that interacts level and control. Make a grouped kernel density plot. Which institutions appear to have the best graduation rates?\n",
    "7. Make a kernel density plot of `aid_value`. Notice that your graph is \"bi-modal\", having two little peaks that represent locally most common values. Now group your graph by `level` and `control`. What explains the bi-modal nature of the graph? Use `groupby` and `.describe` to make grouped calculations of statistical descriptions of `aid_value` by `level` and `control`.\n",
    "8. Make a scatterplot of `grad_100_value` by `aid_value`. Describe what you see. Now make the same plot, grouping by `level` and then `control`. Describe what you see. For which kinds of institutions does aid seem to increase graduation rates?"
   ]
  },
  {
   "cell_type": "markdown",
   "metadata": {
    "id": "98d34a3b-c21d-4dc9-a8d2-fb7686804ceb"
   },
   "source": [
    "**Q4.** This question uses the Airbnb data to practice making visualizations.\n",
    "\n",
    "  1. Load the `./data/airbnb_hw.csv` data with Pandas. You should have cleaned the `Price` variable in question 2, and you'll need it later for this question.\n",
    "  2. What are are the dimensions of the data? How many observations are there? What are the variables included? Use `.head()` to examine the first few rows of data.\n",
    "  3. Cross tabulate `Room Type` and `Property Type`. What patterns do you see in what kinds of rentals are available? For which kinds of properties are private rooms more common than renting the entire property?\n",
    "  4. For `Price`, make a histogram, kernel density, box plot, and a statistical description of the variable. Are the data badly scaled? Are there many outliers? Use `log` to transform price into a new variable, `price_log`, and take these steps again.\n",
    "  5. Make a scatterplot of `price_log` and `Beds`. Describe what you see. Use `.groupby()` to compute a desciption of `Price` conditional on/grouped by the number of beds. Describe any patterns you see in the average price and standard deviation in prices.\n",
    "  6. Make a scatterplot of `price_log` and `Beds`, but color the graph by `Room Type` and `Property Type`. What patterns do you see? Compute a description of `Price` conditional on `Room Type` and `Property Type`. Which Room Type and Property Type have the highest prices on average? Which have the highest standard deviation? Does the mean or median appear to be a more reliable estimate of central tendency, and explain why?\n",
    "  7. We've looked a bit at this `price_log` and `Beds` scatterplot. Use seaborn to make a `jointplot` with `kind=hex`. Where are the data actually distributed? How does it affect the way you think about the plots in 5 and 6?"
   ]
  },
  {
   "cell_type": "markdown",
   "metadata": {
    "id": "649494cd-cfd6-4f80-992a-9994fc19e1d5"
   },
   "source": [
    "**Q5.** Many important datasets contain a race variable, typically limited to a handful of values often including Black, White, Asian, Latino, and Indigenous. This question looks at data gathering efforts on this variable by the U.S. Federal government.\n",
    "\n",
    "1. How did the most recent US Census gather data on race?\n",
    "2. Why do we gather these data? What role do these kinds of data play in politics and society? Why does data quality matter?\n",
    "3. Please provide a constructive criticism of how the Census was conducted: What was done well? What do you think was missing? How should future large scale surveys be adjusted to best reflect the diversity of the population? Could some of the Census' good practices be adopted more widely to gather richer and more useful data?\n",
    "4. How did the Census gather data on sex and gender? Please provide a similar constructive criticism of their practices.\n",
    "5. When it comes to cleaning data, what concerns do you have about protected characteristics like sex, gender, sexual identity, or race? What challenges can you imagine arising when there are missing values? What good or bad practices might people adopt, and why?\n",
    "6. Suppose someone invented an algorithm to impute values for protected characteristics like race, gender, sex, or sexuality. What kinds of concerns would you have?"
   ]
  },
  {
   "cell_type": "markdown",
   "metadata": {
    "id": "2f38f2fd-6381-481d-bba9-017f3d363426"
   },
   "source": [
    "**Q6.** Open the `./data/CBO_data.pdf` file. This contains tax data for 2019, explaining where the money comes from that the U.S. Federal Government Spends in terms of taxation on individuals/families and payroll taxes (the amount that your employer pays in taxes on your wages).\n",
    "\n",
    "For some context, the Federal government ultimately spent about $4.4 trillion in 2019, which was 21% of GDP (the total monetary value of all goods and services produced within the United States). Individual Income Taxes is the amount individuals pay on their wages to the Federal government, Corporate Income Taxes is the taxes individuals pay on capital gains from investment when they sell stock or other financial instruments, Payroll Taxes is the tax your employer pays on your wages, Excises and Customs Duties are taxes on goods or services like sin taxes on cigarettes or alcohol, and Estate and Gift Taxes are taxes paid on transfers of wealth to other people.\n",
    "\n",
    "1. Get the Millions of Families and Billions of Dollars data into a .csv file and load it with Pandas.\n",
    "2. Create a bar plot of individual income taxes by income decile. Explain what the graph shows. Why are some values negative?\n",
    "3. Create a bar plot of Total Federal Taxes by income decile. Which deciles are paying net positive amounts, and which are paying net negative amounts?\n",
    "4. Create a stacked bar plot for which Total Federal Taxes is grouped by Individual Income Taxes, Payroll Taxes, Excises and Customs Duties, and Estate and Gift Taxes. How does the share of taxes paid vary across the adjusted income deciles? (Hint: Are these the kind of data you want to melt?)\n",
    "5. Below the Total line for Millions of Families and Billions of Dollars, there are data for the richest of the richest families. Plot this alongside the bars for the deciles above the Total line. Describe your results.\n",
    "6. Get the Percent Distribution data into a .csv file and load it with Pandas. Create a bar graph of Total Federal Taxes by income decile.\n",
    "7. A tax system is progressive if higher-income and wealthier individuals pay more than lower-income and less wealthy individuals, and it is regressive if the opposite is true. Is the U.S. tax system progressive in terms of amount paid? In terms of the percentage of the overall total?\n",
    "8. Do the rich pay enough in taxes? Defend your answer."
   ]
  }
 ],
 "metadata": {
  "colab": {
   "provenance": []
  },
  "kernelspec": {
   "display_name": "Python 3",
   "language": "python",
   "name": "python3"
  },
  "language_info": {
   "codemirror_mode": {
    "name": "ipython",
    "version": 3
   },
   "file_extension": ".py",
   "mimetype": "text/x-python",
   "name": "python",
   "nbconvert_exporter": "python",
   "pygments_lexer": "ipython3",
   "version": "3.8.8"
  }
 },
 "nbformat": 4,
 "nbformat_minor": 5
}
